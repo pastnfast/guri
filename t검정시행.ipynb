{
 "cells": [
  {
   "cell_type": "code",
   "execution_count": 1,
   "id": "fd6d061d",
   "metadata": {
    "ExecuteTime": {
     "end_time": "2022-07-21T04:15:45.762878Z",
     "start_time": "2022-07-21T04:15:43.695751Z"
    }
   },
   "outputs": [],
   "source": [
    "import pandas as pd\n",
    "from sklearn.impute import SimpleImputer\n",
    "import numpy as np"
   ]
  },
  {
   "cell_type": "code",
   "execution_count": 2,
   "id": "a49c9a68",
   "metadata": {
    "ExecuteTime": {
     "end_time": "2022-07-21T04:15:46.110789Z",
     "start_time": "2022-07-21T04:15:45.763880Z"
    }
   },
   "outputs": [
    {
     "data": {
      "text/html": [
       "<div>\n",
       "<style scoped>\n",
       "    .dataframe tbody tr th:only-of-type {\n",
       "        vertical-align: middle;\n",
       "    }\n",
       "\n",
       "    .dataframe tbody tr th {\n",
       "        vertical-align: top;\n",
       "    }\n",
       "\n",
       "    .dataframe thead th {\n",
       "        text-align: right;\n",
       "    }\n",
       "</style>\n",
       "<table border=\"1\" class=\"dataframe\">\n",
       "  <thead>\n",
       "    <tr style=\"text-align: right;\">\n",
       "      <th></th>\n",
       "      <th>hotel</th>\n",
       "      <th>is_canceled</th>\n",
       "      <th>lead_time</th>\n",
       "      <th>arrival_date_year</th>\n",
       "      <th>arrival_date_month</th>\n",
       "      <th>arrival_date_week_number</th>\n",
       "      <th>arrival_date_day_of_month</th>\n",
       "      <th>stays_in_weekend_nights</th>\n",
       "      <th>stays_in_week_nights</th>\n",
       "      <th>adults</th>\n",
       "      <th>...</th>\n",
       "      <th>deposit_type</th>\n",
       "      <th>agent</th>\n",
       "      <th>company</th>\n",
       "      <th>days_in_waiting_list</th>\n",
       "      <th>customer_type</th>\n",
       "      <th>adr</th>\n",
       "      <th>required_car_parking_spaces</th>\n",
       "      <th>total_of_special_requests</th>\n",
       "      <th>reservation_status</th>\n",
       "      <th>reservation_status_date</th>\n",
       "    </tr>\n",
       "  </thead>\n",
       "  <tbody>\n",
       "    <tr>\n",
       "      <th>0</th>\n",
       "      <td>Resort Hotel</td>\n",
       "      <td>0</td>\n",
       "      <td>342</td>\n",
       "      <td>2015</td>\n",
       "      <td>July</td>\n",
       "      <td>27</td>\n",
       "      <td>1</td>\n",
       "      <td>0</td>\n",
       "      <td>0</td>\n",
       "      <td>2</td>\n",
       "      <td>...</td>\n",
       "      <td>No Deposit</td>\n",
       "      <td>NaN</td>\n",
       "      <td>NaN</td>\n",
       "      <td>0</td>\n",
       "      <td>Transient</td>\n",
       "      <td>0.00</td>\n",
       "      <td>0</td>\n",
       "      <td>0</td>\n",
       "      <td>Check-Out</td>\n",
       "      <td>2015-07-01</td>\n",
       "    </tr>\n",
       "    <tr>\n",
       "      <th>1</th>\n",
       "      <td>Resort Hotel</td>\n",
       "      <td>0</td>\n",
       "      <td>737</td>\n",
       "      <td>2015</td>\n",
       "      <td>July</td>\n",
       "      <td>27</td>\n",
       "      <td>1</td>\n",
       "      <td>0</td>\n",
       "      <td>0</td>\n",
       "      <td>2</td>\n",
       "      <td>...</td>\n",
       "      <td>No Deposit</td>\n",
       "      <td>NaN</td>\n",
       "      <td>NaN</td>\n",
       "      <td>0</td>\n",
       "      <td>Transient</td>\n",
       "      <td>0.00</td>\n",
       "      <td>0</td>\n",
       "      <td>0</td>\n",
       "      <td>Check-Out</td>\n",
       "      <td>2015-07-01</td>\n",
       "    </tr>\n",
       "    <tr>\n",
       "      <th>2</th>\n",
       "      <td>Resort Hotel</td>\n",
       "      <td>0</td>\n",
       "      <td>7</td>\n",
       "      <td>2015</td>\n",
       "      <td>July</td>\n",
       "      <td>27</td>\n",
       "      <td>1</td>\n",
       "      <td>0</td>\n",
       "      <td>1</td>\n",
       "      <td>1</td>\n",
       "      <td>...</td>\n",
       "      <td>No Deposit</td>\n",
       "      <td>NaN</td>\n",
       "      <td>NaN</td>\n",
       "      <td>0</td>\n",
       "      <td>Transient</td>\n",
       "      <td>75.00</td>\n",
       "      <td>0</td>\n",
       "      <td>0</td>\n",
       "      <td>Check-Out</td>\n",
       "      <td>2015-07-02</td>\n",
       "    </tr>\n",
       "    <tr>\n",
       "      <th>3</th>\n",
       "      <td>Resort Hotel</td>\n",
       "      <td>0</td>\n",
       "      <td>13</td>\n",
       "      <td>2015</td>\n",
       "      <td>July</td>\n",
       "      <td>27</td>\n",
       "      <td>1</td>\n",
       "      <td>0</td>\n",
       "      <td>1</td>\n",
       "      <td>1</td>\n",
       "      <td>...</td>\n",
       "      <td>No Deposit</td>\n",
       "      <td>304.0</td>\n",
       "      <td>NaN</td>\n",
       "      <td>0</td>\n",
       "      <td>Transient</td>\n",
       "      <td>75.00</td>\n",
       "      <td>0</td>\n",
       "      <td>0</td>\n",
       "      <td>Check-Out</td>\n",
       "      <td>2015-07-02</td>\n",
       "    </tr>\n",
       "    <tr>\n",
       "      <th>4</th>\n",
       "      <td>Resort Hotel</td>\n",
       "      <td>0</td>\n",
       "      <td>14</td>\n",
       "      <td>2015</td>\n",
       "      <td>July</td>\n",
       "      <td>27</td>\n",
       "      <td>1</td>\n",
       "      <td>0</td>\n",
       "      <td>2</td>\n",
       "      <td>2</td>\n",
       "      <td>...</td>\n",
       "      <td>No Deposit</td>\n",
       "      <td>240.0</td>\n",
       "      <td>NaN</td>\n",
       "      <td>0</td>\n",
       "      <td>Transient</td>\n",
       "      <td>98.00</td>\n",
       "      <td>0</td>\n",
       "      <td>1</td>\n",
       "      <td>Check-Out</td>\n",
       "      <td>2015-07-03</td>\n",
       "    </tr>\n",
       "    <tr>\n",
       "      <th>...</th>\n",
       "      <td>...</td>\n",
       "      <td>...</td>\n",
       "      <td>...</td>\n",
       "      <td>...</td>\n",
       "      <td>...</td>\n",
       "      <td>...</td>\n",
       "      <td>...</td>\n",
       "      <td>...</td>\n",
       "      <td>...</td>\n",
       "      <td>...</td>\n",
       "      <td>...</td>\n",
       "      <td>...</td>\n",
       "      <td>...</td>\n",
       "      <td>...</td>\n",
       "      <td>...</td>\n",
       "      <td>...</td>\n",
       "      <td>...</td>\n",
       "      <td>...</td>\n",
       "      <td>...</td>\n",
       "      <td>...</td>\n",
       "      <td>...</td>\n",
       "    </tr>\n",
       "    <tr>\n",
       "      <th>119385</th>\n",
       "      <td>City Hotel</td>\n",
       "      <td>0</td>\n",
       "      <td>23</td>\n",
       "      <td>2017</td>\n",
       "      <td>August</td>\n",
       "      <td>35</td>\n",
       "      <td>30</td>\n",
       "      <td>2</td>\n",
       "      <td>5</td>\n",
       "      <td>2</td>\n",
       "      <td>...</td>\n",
       "      <td>No Deposit</td>\n",
       "      <td>394.0</td>\n",
       "      <td>NaN</td>\n",
       "      <td>0</td>\n",
       "      <td>Transient</td>\n",
       "      <td>96.14</td>\n",
       "      <td>0</td>\n",
       "      <td>0</td>\n",
       "      <td>Check-Out</td>\n",
       "      <td>2017-09-06</td>\n",
       "    </tr>\n",
       "    <tr>\n",
       "      <th>119386</th>\n",
       "      <td>City Hotel</td>\n",
       "      <td>0</td>\n",
       "      <td>102</td>\n",
       "      <td>2017</td>\n",
       "      <td>August</td>\n",
       "      <td>35</td>\n",
       "      <td>31</td>\n",
       "      <td>2</td>\n",
       "      <td>5</td>\n",
       "      <td>3</td>\n",
       "      <td>...</td>\n",
       "      <td>No Deposit</td>\n",
       "      <td>9.0</td>\n",
       "      <td>NaN</td>\n",
       "      <td>0</td>\n",
       "      <td>Transient</td>\n",
       "      <td>225.43</td>\n",
       "      <td>0</td>\n",
       "      <td>2</td>\n",
       "      <td>Check-Out</td>\n",
       "      <td>2017-09-07</td>\n",
       "    </tr>\n",
       "    <tr>\n",
       "      <th>119387</th>\n",
       "      <td>City Hotel</td>\n",
       "      <td>0</td>\n",
       "      <td>34</td>\n",
       "      <td>2017</td>\n",
       "      <td>August</td>\n",
       "      <td>35</td>\n",
       "      <td>31</td>\n",
       "      <td>2</td>\n",
       "      <td>5</td>\n",
       "      <td>2</td>\n",
       "      <td>...</td>\n",
       "      <td>No Deposit</td>\n",
       "      <td>9.0</td>\n",
       "      <td>NaN</td>\n",
       "      <td>0</td>\n",
       "      <td>Transient</td>\n",
       "      <td>157.71</td>\n",
       "      <td>0</td>\n",
       "      <td>4</td>\n",
       "      <td>Check-Out</td>\n",
       "      <td>2017-09-07</td>\n",
       "    </tr>\n",
       "    <tr>\n",
       "      <th>119388</th>\n",
       "      <td>City Hotel</td>\n",
       "      <td>0</td>\n",
       "      <td>109</td>\n",
       "      <td>2017</td>\n",
       "      <td>August</td>\n",
       "      <td>35</td>\n",
       "      <td>31</td>\n",
       "      <td>2</td>\n",
       "      <td>5</td>\n",
       "      <td>2</td>\n",
       "      <td>...</td>\n",
       "      <td>No Deposit</td>\n",
       "      <td>89.0</td>\n",
       "      <td>NaN</td>\n",
       "      <td>0</td>\n",
       "      <td>Transient</td>\n",
       "      <td>104.40</td>\n",
       "      <td>0</td>\n",
       "      <td>0</td>\n",
       "      <td>Check-Out</td>\n",
       "      <td>2017-09-07</td>\n",
       "    </tr>\n",
       "    <tr>\n",
       "      <th>119389</th>\n",
       "      <td>City Hotel</td>\n",
       "      <td>0</td>\n",
       "      <td>205</td>\n",
       "      <td>2017</td>\n",
       "      <td>August</td>\n",
       "      <td>35</td>\n",
       "      <td>29</td>\n",
       "      <td>2</td>\n",
       "      <td>7</td>\n",
       "      <td>2</td>\n",
       "      <td>...</td>\n",
       "      <td>No Deposit</td>\n",
       "      <td>9.0</td>\n",
       "      <td>NaN</td>\n",
       "      <td>0</td>\n",
       "      <td>Transient</td>\n",
       "      <td>151.20</td>\n",
       "      <td>0</td>\n",
       "      <td>2</td>\n",
       "      <td>Check-Out</td>\n",
       "      <td>2017-09-07</td>\n",
       "    </tr>\n",
       "  </tbody>\n",
       "</table>\n",
       "<p>119390 rows × 32 columns</p>\n",
       "</div>"
      ],
      "text/plain": [
       "               hotel  is_canceled  lead_time  arrival_date_year  \\\n",
       "0       Resort Hotel            0        342               2015   \n",
       "1       Resort Hotel            0        737               2015   \n",
       "2       Resort Hotel            0          7               2015   \n",
       "3       Resort Hotel            0         13               2015   \n",
       "4       Resort Hotel            0         14               2015   \n",
       "...              ...          ...        ...                ...   \n",
       "119385    City Hotel            0         23               2017   \n",
       "119386    City Hotel            0        102               2017   \n",
       "119387    City Hotel            0         34               2017   \n",
       "119388    City Hotel            0        109               2017   \n",
       "119389    City Hotel            0        205               2017   \n",
       "\n",
       "       arrival_date_month  arrival_date_week_number  \\\n",
       "0                    July                        27   \n",
       "1                    July                        27   \n",
       "2                    July                        27   \n",
       "3                    July                        27   \n",
       "4                    July                        27   \n",
       "...                   ...                       ...   \n",
       "119385             August                        35   \n",
       "119386             August                        35   \n",
       "119387             August                        35   \n",
       "119388             August                        35   \n",
       "119389             August                        35   \n",
       "\n",
       "        arrival_date_day_of_month  stays_in_weekend_nights  \\\n",
       "0                               1                        0   \n",
       "1                               1                        0   \n",
       "2                               1                        0   \n",
       "3                               1                        0   \n",
       "4                               1                        0   \n",
       "...                           ...                      ...   \n",
       "119385                         30                        2   \n",
       "119386                         31                        2   \n",
       "119387                         31                        2   \n",
       "119388                         31                        2   \n",
       "119389                         29                        2   \n",
       "\n",
       "        stays_in_week_nights  adults  ...  deposit_type  agent company  \\\n",
       "0                          0       2  ...    No Deposit    NaN     NaN   \n",
       "1                          0       2  ...    No Deposit    NaN     NaN   \n",
       "2                          1       1  ...    No Deposit    NaN     NaN   \n",
       "3                          1       1  ...    No Deposit  304.0     NaN   \n",
       "4                          2       2  ...    No Deposit  240.0     NaN   \n",
       "...                      ...     ...  ...           ...    ...     ...   \n",
       "119385                     5       2  ...    No Deposit  394.0     NaN   \n",
       "119386                     5       3  ...    No Deposit    9.0     NaN   \n",
       "119387                     5       2  ...    No Deposit    9.0     NaN   \n",
       "119388                     5       2  ...    No Deposit   89.0     NaN   \n",
       "119389                     7       2  ...    No Deposit    9.0     NaN   \n",
       "\n",
       "       days_in_waiting_list customer_type     adr  \\\n",
       "0                         0     Transient    0.00   \n",
       "1                         0     Transient    0.00   \n",
       "2                         0     Transient   75.00   \n",
       "3                         0     Transient   75.00   \n",
       "4                         0     Transient   98.00   \n",
       "...                     ...           ...     ...   \n",
       "119385                    0     Transient   96.14   \n",
       "119386                    0     Transient  225.43   \n",
       "119387                    0     Transient  157.71   \n",
       "119388                    0     Transient  104.40   \n",
       "119389                    0     Transient  151.20   \n",
       "\n",
       "        required_car_parking_spaces  total_of_special_requests  \\\n",
       "0                                 0                          0   \n",
       "1                                 0                          0   \n",
       "2                                 0                          0   \n",
       "3                                 0                          0   \n",
       "4                                 0                          1   \n",
       "...                             ...                        ...   \n",
       "119385                            0                          0   \n",
       "119386                            0                          2   \n",
       "119387                            0                          4   \n",
       "119388                            0                          0   \n",
       "119389                            0                          2   \n",
       "\n",
       "        reservation_status reservation_status_date  \n",
       "0                Check-Out              2015-07-01  \n",
       "1                Check-Out              2015-07-01  \n",
       "2                Check-Out              2015-07-02  \n",
       "3                Check-Out              2015-07-02  \n",
       "4                Check-Out              2015-07-03  \n",
       "...                    ...                     ...  \n",
       "119385           Check-Out              2017-09-06  \n",
       "119386           Check-Out              2017-09-07  \n",
       "119387           Check-Out              2017-09-07  \n",
       "119388           Check-Out              2017-09-07  \n",
       "119389           Check-Out              2017-09-07  \n",
       "\n",
       "[119390 rows x 32 columns]"
      ]
     },
     "execution_count": 2,
     "metadata": {},
     "output_type": "execute_result"
    }
   ],
   "source": [
    "data = pd.read_csv('./dataset/hotel_bookings.csv')\n",
    "data"
   ]
  },
  {
   "cell_type": "code",
   "execution_count": 3,
   "id": "89545685",
   "metadata": {
    "ExecuteTime": {
     "end_time": "2022-07-21T04:15:46.125750Z",
     "start_time": "2022-07-21T04:15:46.111788Z"
    }
   },
   "outputs": [
    {
     "data": {
      "text/plain": [
       "Index(['hotel', 'is_canceled', 'lead_time', 'arrival_date_year',\n",
       "       'arrival_date_month', 'arrival_date_week_number',\n",
       "       'arrival_date_day_of_month', 'stays_in_weekend_nights',\n",
       "       'stays_in_week_nights', 'adults', 'children', 'babies', 'meal',\n",
       "       'country', 'market_segment', 'distribution_channel',\n",
       "       'is_repeated_guest', 'previous_cancellations',\n",
       "       'previous_bookings_not_canceled', 'reserved_room_type',\n",
       "       'assigned_room_type', 'booking_changes', 'deposit_type', 'agent',\n",
       "       'company', 'days_in_waiting_list', 'customer_type', 'adr',\n",
       "       'required_car_parking_spaces', 'total_of_special_requests',\n",
       "       'reservation_status', 'reservation_status_date'],\n",
       "      dtype='object')"
      ]
     },
     "execution_count": 3,
     "metadata": {},
     "output_type": "execute_result"
    }
   ],
   "source": [
    "data.columns"
   ]
  },
  {
   "cell_type": "code",
   "execution_count": null,
   "id": "473225fd",
   "metadata": {},
   "outputs": [],
   "source": [
    "\"\"\"\n",
    "칼럼 삭제 목록 \n",
    "agent\n",
    "country\n",
    "company\n",
    "reservation_status\n",
    "reservation_status_date\n",
    "distribution_channel: 예약채널\n",
    "market_segment : 시장세분화\n",
    "\"\"\""
   ]
  },
  {
   "cell_type": "code",
   "execution_count": 4,
   "id": "47597f24",
   "metadata": {
    "ExecuteTime": {
     "end_time": "2022-07-21T04:23:06.431938Z",
     "start_time": "2022-07-21T04:23:06.407997Z"
    }
   },
   "outputs": [
    {
     "data": {
      "text/plain": [
       "Index(['hotel', 'is_canceled', 'lead_time', 'arrival_date_year',\n",
       "       'arrival_date_month', 'arrival_date_week_number',\n",
       "       'arrival_date_day_of_month', 'stays_in_weekend_nights',\n",
       "       'stays_in_week_nights', 'adults', 'children', 'babies', 'meal',\n",
       "       'is_repeated_guest', 'previous_cancellations',\n",
       "       'previous_bookings_not_canceled', 'reserved_room_type',\n",
       "       'assigned_room_type', 'booking_changes', 'deposit_type',\n",
       "       'days_in_waiting_list', 'customer_type', 'adr',\n",
       "       'required_car_parking_spaces', 'total_of_special_requests'],\n",
       "      dtype='object')"
      ]
     },
     "execution_count": 4,
     "metadata": {},
     "output_type": "execute_result"
    }
   ],
   "source": [
    "data = data.drop(columns=['agent','country','company','reservation_status_date','reservation_status','distribution_channel','market_segment'])\n",
    "data.columns"
   ]
  },
  {
   "cell_type": "code",
   "execution_count": 21,
   "id": "161de69e",
   "metadata": {
    "ExecuteTime": {
     "end_time": "2022-07-21T04:44:38.870100Z",
     "start_time": "2022-07-21T04:44:38.841177Z"
    }
   },
   "outputs": [],
   "source": [
    "canceled = data[data['is_canceled']== 1]\n",
    "not_canceled = data[data['is_canceled']==0]"
   ]
  },
  {
   "cell_type": "code",
   "execution_count": 24,
   "id": "f73d2762",
   "metadata": {
    "ExecuteTime": {
     "end_time": "2022-07-21T04:45:43.456440Z",
     "start_time": "2022-07-21T04:45:43.441483Z"
    }
   },
   "outputs": [],
   "source": [
    "can = canceled.select_dtypes(exclude='object')\n",
    "notcan = not_canceled.select_dtypes(exclude='object')"
   ]
  },
  {
   "cell_type": "code",
   "execution_count": 60,
   "id": "200fb95e",
   "metadata": {
    "ExecuteTime": {
     "end_time": "2022-07-21T23:47:47.092270Z",
     "start_time": "2022-07-21T23:47:47.071328Z"
    }
   },
   "outputs": [
    {
     "data": {
      "text/plain": [
       "Index(['is_canceled', 'lead_time', 'arrival_date_year',\n",
       "       'arrival_date_week_number', 'arrival_date_day_of_month',\n",
       "       'stays_in_weekend_nights', 'stays_in_week_nights', 'adults', 'children',\n",
       "       'babies', 'is_repeated_guest', 'previous_cancellations',\n",
       "       'previous_bookings_not_canceled', 'booking_changes',\n",
       "       'days_in_waiting_list', 'adr', 'required_car_parking_spaces',\n",
       "       'total_of_special_requests'],\n",
       "      dtype='object')"
      ]
     },
     "execution_count": 60,
     "metadata": {},
     "output_type": "execute_result"
    }
   ],
   "source": [
    "can.columns"
   ]
  },
  {
   "cell_type": "code",
   "execution_count": 61,
   "id": "1babe7fa",
   "metadata": {
    "ExecuteTime": {
     "end_time": "2022-07-21T23:47:58.616415Z",
     "start_time": "2022-07-21T23:47:58.599181Z"
    }
   },
   "outputs": [
    {
     "data": {
      "text/plain": [
       "Index(['is_canceled', 'lead_time', 'arrival_date_year',\n",
       "       'arrival_date_week_number', 'arrival_date_day_of_month',\n",
       "       'stays_in_weekend_nights', 'stays_in_week_nights', 'adults', 'children',\n",
       "       'babies', 'is_repeated_guest', 'previous_cancellations',\n",
       "       'previous_bookings_not_canceled', 'booking_changes',\n",
       "       'days_in_waiting_list', 'adr', 'required_car_parking_spaces',\n",
       "       'total_of_special_requests'],\n",
       "      dtype='object')"
      ]
     },
     "execution_count": 61,
     "metadata": {},
     "output_type": "execute_result"
    }
   ],
   "source": [
    "notcan.columns"
   ]
  },
  {
   "cell_type": "code",
   "execution_count": 34,
   "id": "92cd18d1",
   "metadata": {
    "ExecuteTime": {
     "end_time": "2022-07-21T04:56:20.659532Z",
     "start_time": "2022-07-21T04:56:20.649588Z"
    }
   },
   "outputs": [
    {
     "data": {
      "text/plain": [
       "NormaltestResult(statistic=6077.828068850519, pvalue=0.0)"
      ]
     },
     "execution_count": 34,
     "metadata": {},
     "output_type": "execute_result"
    }
   ],
   "source": [
    "#정규성 검사 \n",
    "from scipy.stats import normaltest\n",
    "normaltest(can.lead_time)"
   ]
  },
  {
   "cell_type": "code",
   "execution_count": 38,
   "id": "b9759147",
   "metadata": {
    "ExecuteTime": {
     "end_time": "2022-07-21T05:00:33.785325Z",
     "start_time": "2022-07-21T05:00:33.777347Z"
    }
   },
   "outputs": [
    {
     "data": {
      "text/plain": [
       "Ttest_indResult(statistic=99.07475331704227, pvalue=0.0)"
      ]
     },
     "execution_count": 38,
     "metadata": {},
     "output_type": "execute_result"
    }
   ],
   "source": [
    "# t검정 시행- one sample t-test 시행\n",
    "from scipy import stats\n",
    "stats.ttest_ind(can['lead_time'], notcan['lead_time'],equal_var = False)"
   ]
  },
  {
   "cell_type": "code",
   "execution_count": 25,
   "id": "7d16e3d1",
   "metadata": {
    "ExecuteTime": {
     "end_time": "2022-07-21T04:45:57.037867Z",
     "start_time": "2022-07-21T04:45:56.970048Z"
    }
   },
   "outputs": [
    {
     "data": {
      "text/plain": [
       "NormaltestResult(statistic=array([186556.38227241,  20031.27882389,  15639.82285424,  20889.08157475,\n",
       "        59140.19868617,  26058.25559403,  51132.64894647,   2964.55905092,\n",
       "        61027.71179189, 177782.43389112,  65822.8263883 , 192088.56716066,\n",
       "       162752.73327057,  82687.00348762, 131224.84016262,  11944.21159321,\n",
       "        52744.00600143,  11184.18905303]), pvalue=array([0., 0., 0., 0., 0., 0., 0., 0., 0., 0., 0., 0., 0., 0., 0., 0., 0.,\n",
       "       0.]))"
      ]
     },
     "execution_count": 25,
     "metadata": {},
     "output_type": "execute_result"
    }
   ],
   "source": [
    "normaltest(notcan)"
   ]
  },
  {
   "cell_type": "markdown",
   "id": "a5bc6aab",
   "metadata": {
    "ExecuteTime": {
     "end_time": "2022-07-21T23:43:50.690546Z",
     "start_time": "2022-07-21T23:43:50.664614Z"
    }
   },
   "source": [
    "<strong> - deposit_type : 범주형이라 t검정 시행 불가"
   ]
  },
  {
   "cell_type": "markdown",
   "id": "03e13449",
   "metadata": {},
   "source": [
    "---"
   ]
  },
  {
   "cell_type": "markdown",
   "id": "82741056",
   "metadata": {
    "ExecuteTime": {
     "end_time": "2022-07-22T02:53:22.929775Z",
     "start_time": "2022-07-22T02:53:22.873937Z"
    }
   },
   "source": [
    "독립표본 (independent) t-test: 두 집단이 서로 다른 모집단에서 추출된, 독립된 두 집단의 평균의 차이를 검정하는 것\n",
    "    => 독립표본 t 검정 시행"
   ]
  },
  {
   "cell_type": "markdown",
   "id": "eb15bc24",
   "metadata": {
    "ExecuteTime": {
     "end_time": "2022-07-22T02:28:29.916482Z",
     "start_time": "2022-07-22T02:28:29.890553Z"
    }
   },
   "source": [
    "<strong>귀무가설 :두 집단의 모평균(모집단의 평균)은 동일하다 <br>\n",
    "<strong>대립가설: 두 집단의 모평균(모집단의 평균)은 동일하지 않다."
   ]
  },
  {
   "cell_type": "markdown",
   "id": "cc47d9e0",
   "metadata": {},
   "source": [
    "### lead_time"
   ]
  },
  {
   "cell_type": "code",
   "execution_count": 70,
   "id": "679d8eca",
   "metadata": {
    "ExecuteTime": {
     "end_time": "2022-07-22T02:55:59.908249Z",
     "start_time": "2022-07-22T02:55:59.839898Z"
    }
   },
   "outputs": [
    {
     "name": "stdout",
     "output_type": "stream",
     "text": [
      "LeveneResult(statistic=3601.8002794448134, pvalue=0.0)\n",
      "FlignerResult(statistic=5293.5110147009555, pvalue=0.0)\n",
      "BartlettResult(statistic=4014.982986160867, pvalue=0.0)\n"
     ]
    }
   ],
   "source": [
    "from scipy import stats\n",
    "# 등분산 검정\n",
    "print(stats.levene(can['lead_time'], notcan['lead_time']))\n",
    "print(stats.fligner(can['lead_time'], notcan['lead_time']))\n",
    "print(stats.bartlett(can['lead_time'], notcan['lead_time']))"
   ]
  },
  {
   "cell_type": "markdown",
   "id": "b7e52b07",
   "metadata": {
    "ExecuteTime": {
     "end_time": "2022-07-21T23:54:42.474882Z",
     "start_time": "2022-07-21T23:54:42.454936Z"
    }
   },
   "source": [
    "<strong> Levene의 등분산 검정 결과 F값이 3601.800로 확인됐다. F값이란 집단간 분산/집단내 분산을 말한다. 따라서 F값이 크면클수록\n",
    "두 표본의 분산이 동일하지 않다는 뜻이다."
   ]
  },
  {
   "cell_type": "code",
   "execution_count": 44,
   "id": "4b4d8c1c",
   "metadata": {
    "ExecuteTime": {
     "end_time": "2022-07-21T05:36:19.941007Z",
     "start_time": "2022-07-21T05:36:19.920061Z"
    }
   },
   "outputs": [
    {
     "name": "stdout",
     "output_type": "stream",
     "text": [
      "t statistic : 99.075 \n",
      "p-value : 0.000\n"
     ]
    }
   ],
   "source": [
    "#등분산이 아닌 독립표본 t-검정 실행 \n",
    "result = stats.ttest_ind(can.lead_time, notcan.lead_time, equal_var=False) \n",
    "print('t statistic : %.3f \\np-value : %.3f' % (result))"
   ]
  },
  {
   "cell_type": "markdown",
   "id": "b3b0c639",
   "metadata": {},
   "source": [
    " <strong>독립표본 t-검정 결과 t값이 99.075, p-value가 0.000으로 신뢰수준 99%하에서 \"lead_time에 따른 예약취소여부엔 차이가 없다.\"라는 가설을 기각한다.\n",
    "따라서 Retailer type에 따른 평균 매출액엔 차이가 있는 것으로 확인됐다"
   ]
  },
  {
   "cell_type": "markdown",
   "id": "1b1f50ac",
   "metadata": {},
   "source": [
    "### booking_changes"
   ]
  },
  {
   "cell_type": "code",
   "execution_count": 46,
   "id": "462c6863",
   "metadata": {
    "ExecuteTime": {
     "end_time": "2022-07-21T23:37:51.159551Z",
     "start_time": "2022-07-21T23:37:51.104595Z"
    }
   },
   "outputs": [
    {
     "name": "stdout",
     "output_type": "stream",
     "text": [
      "LeveneResult(statistic=2541.731400613089, pvalue=0.0)\n",
      "FlignerResult(statistic=3650.908800115861, pvalue=0.0)\n",
      "BartlettResult(statistic=11923.175380714158, pvalue=0.0)\n"
     ]
    }
   ],
   "source": [
    "from scipy import stats\n",
    "# 등분산 검정\n",
    "print(stats.levene(can['booking_changes'], notcan['booking_changes']))\n",
    "print(stats.fligner(can['booking_changes'], notcan['booking_changes']))\n",
    "print(stats.bartlett(can['booking_changes'], notcan['booking_changes']))"
   ]
  },
  {
   "cell_type": "code",
   "execution_count": 51,
   "id": "37dcb15c",
   "metadata": {
    "ExecuteTime": {
     "end_time": "2022-07-21T23:39:43.293516Z",
     "start_time": "2022-07-21T23:39:43.279549Z"
    }
   },
   "outputs": [
    {
     "name": "stdout",
     "output_type": "stream",
     "text": [
      "t statistic : -56.746 \n",
      "p-value : 0.000\n"
     ]
    }
   ],
   "source": [
    "#등분산이 아닌 독립표본 t-검정 실행 \n",
    "result = stats.ttest_ind(can.booking_changes, notcan.booking_changes, equal_var=False) \n",
    "print('t statistic : %.3f \\np-value : %.3f' % (result))"
   ]
  },
  {
   "cell_type": "markdown",
   "id": "b83be7ce",
   "metadata": {
    "ExecuteTime": {
     "end_time": "2022-07-21T23:54:00.643050Z",
     "start_time": "2022-07-21T23:54:00.633078Z"
    }
   },
   "source": [
    "<strong>결과 해석 : 예약을 취소한 집단과 취소하지 않은 집단간의 분산의 차이가 없다, 즉 동일하다고 할수 있다."
   ]
  },
  {
   "cell_type": "markdown",
   "id": "a5554828",
   "metadata": {},
   "source": [
    "### required_car_parking_spaces"
   ]
  },
  {
   "cell_type": "code",
   "execution_count": 47,
   "id": "2c090805",
   "metadata": {
    "ExecuteTime": {
     "end_time": "2022-07-21T23:38:00.423418Z",
     "start_time": "2022-07-21T23:38:00.375471Z"
    },
    "scrolled": true
   },
   "outputs": [
    {
     "name": "stdout",
     "output_type": "stream",
     "text": [
      "LeveneResult(statistic=4744.260084629089, pvalue=0.0)\n",
      "FlignerResult(statistic=4625.534246549402, pvalue=0.0)\n",
      "BartlettResult(statistic=inf, pvalue=0.0)\n"
     ]
    },
    {
     "name": "stderr",
     "output_type": "stream",
     "text": [
      "C:\\Users\\medici\\anaconda3\\lib\\site-packages\\scipy\\stats\\morestats.py:2467: RuntimeWarning: divide by zero encountered in log\n",
      "  numer = (Ntot*1.0 - k) * log(spsq) - np.sum((Ni - 1.0)*log(ssq), axis=0)\n"
     ]
    }
   ],
   "source": [
    "from scipy import stats\n",
    "# 등분산 검정\n",
    "print(stats.levene(can['required_car_parking_spaces'], notcan['required_car_parking_spaces']))\n",
    "print(stats.fligner(can['required_car_parking_spaces'], notcan['required_car_parking_spaces']))\n",
    "print(stats.bartlett(can['required_car_parking_spaces'], notcan['required_car_parking_spaces']))"
   ]
  },
  {
   "cell_type": "code",
   "execution_count": 52,
   "id": "3d4ae0e8",
   "metadata": {
    "ExecuteTime": {
     "end_time": "2022-07-21T23:40:21.900998Z",
     "start_time": "2022-07-21T23:40:21.889059Z"
    }
   },
   "outputs": [
    {
     "name": "stdout",
     "output_type": "stream",
     "text": [
      "t statistic : -89.798 \n",
      "p-value : 0.000\n"
     ]
    }
   ],
   "source": [
    "#등분산이 아닌 독립표본 t-검정 실행 \n",
    "result = stats.ttest_ind(can.required_car_parking_spaces, notcan.required_car_parking_spaces, equal_var=False) \n",
    "print('t statistic : %.3f \\np-value : %.3f' % (result))"
   ]
  },
  {
   "cell_type": "markdown",
   "id": "60d7d0bb",
   "metadata": {},
   "source": [
    "### previous_cancellations"
   ]
  },
  {
   "cell_type": "code",
   "execution_count": 49,
   "id": "89181c25",
   "metadata": {
    "ExecuteTime": {
     "end_time": "2022-07-21T23:38:49.589900Z",
     "start_time": "2022-07-21T23:38:49.551801Z"
    }
   },
   "outputs": [
    {
     "name": "stdout",
     "output_type": "stream",
     "text": [
      "LeveneResult(statistic=1465.864983065514, pvalue=8.93266e-319)\n",
      "FlignerResult(statistic=8117.859348505634, pvalue=0.0)\n",
      "BartlettResult(statistic=128252.0028606421, pvalue=0.0)\n"
     ]
    }
   ],
   "source": [
    "from scipy import stats\n",
    "# 등분산 검정\n",
    "print(stats.levene(can['previous_cancellations'], notcan['previous_cancellations']))\n",
    "print(stats.fligner(can['previous_cancellations'], notcan['previous_cancellations']))\n",
    "print(stats.bartlett(can['previous_cancellations'], notcan['previous_cancellations']))"
   ]
  },
  {
   "cell_type": "code",
   "execution_count": 53,
   "id": "c48d4b07",
   "metadata": {
    "ExecuteTime": {
     "end_time": "2022-07-21T23:40:32.181969Z",
     "start_time": "2022-07-21T23:40:32.167789Z"
    }
   },
   "outputs": [
    {
     "name": "stdout",
     "output_type": "stream",
     "text": [
      "t statistic : 30.026 \n",
      "p-value : 0.000\n"
     ]
    }
   ],
   "source": [
    "#등분산이 아닌 독립표본 t-검정 실행 \n",
    "result = stats.ttest_ind(can.previous_cancellations, notcan.previous_cancellations, equal_var=False) \n",
    "print('t statistic : %.3f \\np-value : %.3f' % (result))"
   ]
  },
  {
   "cell_type": "markdown",
   "id": "5ceeb9b0",
   "metadata": {},
   "source": [
    "### previous_bookings_not_canceled"
   ]
  },
  {
   "cell_type": "code",
   "execution_count": 50,
   "id": "b8044bed",
   "metadata": {
    "ExecuteTime": {
     "end_time": "2022-07-21T23:39:16.499192Z",
     "start_time": "2022-07-21T23:39:16.455580Z"
    }
   },
   "outputs": [
    {
     "name": "stdout",
     "output_type": "stream",
     "text": [
      "LeveneResult(statistic=394.07204580517646, pvalue=1.4894651920729486e-87)\n",
      "FlignerResult(statistic=1530.0476412047547, pvalue=0.0)\n",
      "BartlettResult(statistic=41008.23889721833, pvalue=0.0)\n"
     ]
    }
   ],
   "source": [
    "from scipy import stats\n",
    "# 등분산 검정\n",
    "print(stats.levene(can['previous_bookings_not_canceled'], notcan['previous_bookings_not_canceled']))\n",
    "print(stats.fligner(can['previous_bookings_not_canceled'], notcan['previous_bookings_not_canceled']))\n",
    "print(stats.bartlett(can['previous_bookings_not_canceled'], notcan['previous_bookings_not_canceled']))"
   ]
  },
  {
   "cell_type": "code",
   "execution_count": 54,
   "id": "3af4979c",
   "metadata": {
    "ExecuteTime": {
     "end_time": "2022-07-21T23:40:40.652162Z",
     "start_time": "2022-07-21T23:40:40.632216Z"
    }
   },
   "outputs": [
    {
     "name": "stdout",
     "output_type": "stream",
     "text": [
      "t statistic : -24.194 \n",
      "p-value : 0.000\n"
     ]
    }
   ],
   "source": [
    "#등분산이 아닌 독립표본 t-검정 실행 \n",
    "result = stats.ttest_ind(can.previous_bookings_not_canceled, notcan.previous_bookings_not_canceled, equal_var=False) \n",
    "print('t statistic : %.3f \\np-value : %.3f' % (result))"
   ]
  },
  {
   "cell_type": "markdown",
   "id": "ac53708e",
   "metadata": {},
   "source": [
    "<strong> t검정 수행 못하는 항목 :\n",
    "    customer_type: 범주형\n",
    "    ,assigned_room_type : 범주형\n",
    "    "
   ]
  },
  {
   "cell_type": "markdown",
   "id": "bbcd3e49",
   "metadata": {},
   "source": [
    "<strong>결론 : 5개의 독립변수 모두 p-value 값이 0 이기때문에 p값이 0.05보다 작기때문에 귀무가설 기각한다."
   ]
  },
  {
   "cell_type": "code",
   "execution_count": null,
   "id": "edddf027",
   "metadata": {},
   "outputs": [],
   "source": []
  }
 ],
 "metadata": {
  "kernelspec": {
   "display_name": "Python 3 (ipykernel)",
   "language": "python",
   "name": "python3"
  },
  "language_info": {
   "codemirror_mode": {
    "name": "ipython",
    "version": 3
   },
   "file_extension": ".py",
   "mimetype": "text/x-python",
   "name": "python",
   "nbconvert_exporter": "python",
   "pygments_lexer": "ipython3",
   "version": "3.9.7"
  },
  "toc": {
   "base_numbering": 1,
   "nav_menu": {},
   "number_sections": true,
   "sideBar": true,
   "skip_h1_title": false,
   "title_cell": "Table of Contents",
   "title_sidebar": "Contents",
   "toc_cell": false,
   "toc_position": {},
   "toc_section_display": true,
   "toc_window_display": false
  }
 },
 "nbformat": 4,
 "nbformat_minor": 5
}
